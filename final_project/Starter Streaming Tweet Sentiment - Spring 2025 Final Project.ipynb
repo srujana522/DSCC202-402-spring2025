{
 "cells": [
  {
   "cell_type": "markdown",
   "metadata": {
    "application/vnd.databricks.v1+cell": {
     "cellMetadata": {},
     "inputWidgets": {},
     "nuid": "fc749083-2211-485c-943f-640e198b2c70",
     "showTitle": false,
     "tableResultSettingsMap": {},
     "title": ""
    }
   },
   "source": [
    "## DSCC202-402 Data Science at Scale Final Project\n",
    "### Tracking Tweet sentiment at scale using a pretrained transformer (classifier)\n",
    "<p>Consider the following illustration of the end to end system that you will be building.  Each student should do their own work.  The project will demonstrate your understanding of Spark Streaming, the medalion data architecture using Delta Lake, Spark Inference at Scale using an MLflow packaged model as well as Exploritory Data Analysis and System Tracking and Monitoring.</p>\n",
    "<br><br>\n",
    "<img src=\"https://data-science-at-scale.s3.amazonaws.com/images/pipeline.drawio.png\">\n",
    "\n",
    "<p>\n",
    "You will be pulling an updated copy of the course GitHub repositiory: <a href=\"https://github.com/lpalum/dscc202-402-spring2025\">The Repo</a>.  \n",
    "\n",
    "Once you have updated your fork of the repository you should see the following template project that is resident in the final_project directory.\n",
    "</p>\n",
    "\n",
    "<img src=\"https://data-science-at-scale.s3.amazonaws.com/images/notebooks.drawio.png\">\n",
    "\n",
    "<p>\n",
    "You can then pull your project into the Databrick Workspace using the <a href=\"https://github.com/apps/databricks\">Databricks App on Github</a> or by cloning the repo to your laptop and then uploading the final_project directory and its contents to your workspace using file imports.  Your choice.\n",
    "\n",
    "<p>\n",
    "Work your way through this notebook which will give you the steps required to submit a complete and compliant project.  The following illustration and associated data dictionary specifies the transformations and data that you are to generate for each step in the medallion pipeline.\n",
    "</p>\n",
    "<br><br>\n",
    "<img src=\"https://data-science-at-scale.s3.amazonaws.com/images/dataframes.drawio.png\">\n",
    "\n",
    "#### Bronze Data - raw ingest\n",
    "- date - string in the source json\n",
    "- user - string in the source json\n",
    "- text - tweet string in the source json\n",
    "- sentiment - the given sentiment of the text as determined by an unknown model that is provided in the source json\n",
    "- source_file - the path of the source json file the this row of data was read from\n",
    "- processing_time - a timestamp of when you read this row from the source json\n",
    "\n",
    "#### Silver Data - Bronze Preprocessing\n",
    "- timestamp - convert date string in the bronze data to a timestamp\n",
    "- mention - every @username mentioned in the text string in the bronze data gets a row in this silver data table.\n",
    "- cleaned_text - the bronze text data with the mentions (@username) removed.\n",
    "- sentiment - the given sentiment that was associated with the text in the bronze table.\n",
    "\n",
    "#### Gold Data - Silver Table Inference\n",
    "- timestamp - the timestamp from the silver data table rows\n",
    "- mention - the mention from the silver data table rows\n",
    "- cleaned_text - the cleaned_text from the silver data table rows\n",
    "- sentiment - the given sentiment from the silver data table rows\n",
    "- predicted_score - score out of 100 from the Hugging Face Sentiment Transformer\n",
    "- predicted_sentiment - string representation of the sentiment\n",
    "- sentiment_id - 0 for negative and 1 for postive associated with the given sentiment\n",
    "- predicted_sentiment_id - 0 for negative and 1 for positive assocaited with the Hugging Face Sentiment Transformer\n",
    "\n",
    "#### Application Data - Gold Table Aggregation\n",
    "- min_timestamp - the oldest timestamp on a given mention (@username)\n",
    "- max_timestamp - the newest timestamp on a given mention (@username)\n",
    "- mention - the user (@username) that this row pertains to.\n",
    "- negative - total negative tweets directed at this mention (@username)\n",
    "- neutral - total neutral tweets directed at this mention (@username)\n",
    "- positive - total positive tweets directed at this mention (@username)\n",
    "\n",
    "When you are designing your approach, one of the main decisions that you will need to make is how you are going to orchestrate the streaming data processing in your pipeline.  There are several valid approaches to triggering your steams and how you will gate the execution of your pipeline.  Think through how you want to proceed and ask questions if you need guidance. The following references may be helpful:\n",
    "- [Spark Structured Streaming Programming Guide](https://spark.apache.org/docs/latest/structured-streaming-programming-guide.html)\n",
    "- [Databricks Autoloader - Cloudfiles](https://docs.databricks.com/en/ingestion/auto-loader/index.html)\n",
    "- [In class examples - Spark Structured Streaming Performance](https://dbc-f85bdc5b-07db.cloud.databricks.com/editor/notebooks/2638424645880316?o=1093580174577663)\n",
    "\n",
    "### Be sure your project runs end to end when *Run all* is executued on this notebook! (7 points)\n",
    "\n",
    "### This project is worth 25% of your final grade.\n",
    "- DSCC-202 Students have 55 possible points on this project (see points above and the instructions below)\n",
    "- DSCC-402 Students have 60 possible points on this project (one extra section to complete)"
   ]
  },
  {
   "cell_type": "code",
   "execution_count": 0,
   "metadata": {
    "application/vnd.databricks.v1+cell": {
     "cellMetadata": {
      "byteLimit": 2048000,
      "rowLimit": 10000
     },
     "inputWidgets": {},
     "nuid": "068f25d0-1387-4342-89cf-ce82a8d614ce",
     "showTitle": true,
     "tableResultSettingsMap": {},
     "title": "Pull in the Includes & Utiltites"
    }
   },
   "outputs": [],
   "source": [
    "%run ./includes/includes"
   ]
  },
  {
   "cell_type": "code",
   "execution_count": 0,
   "metadata": {
    "application/vnd.databricks.v1+cell": {
     "cellMetadata": {
      "byteLimit": 2048000,
      "rowLimit": 10000
     },
     "inputWidgets": {},
     "nuid": "6512bf1b-50e0-4a4b-84a9-e280a6260b56",
     "showTitle": true,
     "tableResultSettingsMap": {},
     "title": "Notebook Control Widgets (maybe helpful)"
    }
   },
   "outputs": [],
   "source": [
    "\"\"\"\n",
    "Adding a widget to the notebook to control the clearing of a previous run.\n",
    "or stopping the active streams using routines defined in the utilities notebook\n",
    "\"\"\"\n",
    "dbutils.widgets.removeAll()\n",
    "\n",
    "dbutils.widgets.dropdown(\"clear_previous_run\", \"No\", [\"No\",\"Yes\"])\n",
    "if (getArgument(\"clear_previous_run\") == \"Yes\"):\n",
    "    clear_previous_run()\n",
    "    print(\"Cleared all previous data.\")\n",
    "\n",
    "dbutils.widgets.dropdown(\"stop_streams\", \"No\", [\"No\",\"Yes\"])\n",
    "if (getArgument(\"stop_streams\") == \"Yes\"):\n",
    "    stop_all_streams()\n",
    "    print(\"Stopped all active streams.\")\n",
    "\n",
    "dbutils.widgets.dropdown(\"optimize_tables\", \"No\", [\"No\",\"Yes\"])\n",
    "if (getArgument(\"optimize_tables\") == \"Yes\"):\n",
    "    # Suck up those small files that we have been appending.\n",
    "    # Optimize the tables\n",
    "    optimize_table(BRONZE_DELTA)\n",
    "    optimize_table(SILVER_DELTA)\n",
    "    optimize_table(GOLD_DELTA)\n",
    "    print(\"Optimized all of the Delta Tables\")"
   ]
  },
  {
   "cell_type": "code",
   "execution_count": 0,
   "metadata": {
    "application/vnd.databricks.v1+cell": {
     "cellMetadata": {
      "byteLimit": 2048000,
      "rowLimit": 10000
     },
     "inputWidgets": {},
     "nuid": "2344ae44-9fe8-4ced-a375-9d1d72926609",
     "showTitle": false,
     "tableResultSettingsMap": {},
     "title": ""
    }
   },
   "outputs": [],
   "source": [
    "%pip install ydata-profiling==4.5.1"
   ]
  },
  {
   "cell_type": "code",
   "execution_count": 0,
   "metadata": {
    "application/vnd.databricks.v1+cell": {
     "cellMetadata": {
      "byteLimit": 2048000,
      "rowLimit": 10000
     },
     "inputWidgets": {},
     "nuid": "8c45e97e-9610-4882-89fd-88714b2e61b0",
     "showTitle": false,
     "tableResultSettingsMap": {},
     "title": ""
    }
   },
   "outputs": [],
   "source": [
    "!pip install 'pydantic<2'"
   ]
  },
  {
   "cell_type": "code",
   "execution_count": 0,
   "metadata": {
    "application/vnd.databricks.v1+cell": {
     "cellMetadata": {
      "byteLimit": 2048000,
      "rowLimit": 10000
     },
     "inputWidgets": {},
     "nuid": "1b1dea25-b48c-4432-95c6-495603b8e333",
     "showTitle": false,
     "tableResultSettingsMap": {},
     "title": ""
    }
   },
   "outputs": [],
   "source": [
    "%pip install transformers"
   ]
  },
  {
   "cell_type": "code",
   "execution_count": 0,
   "metadata": {
    "application/vnd.databricks.v1+cell": {
     "cellMetadata": {
      "byteLimit": 2048000,
      "rowLimit": 10000
     },
     "inputWidgets": {},
     "nuid": "bea2d068-36f8-48fe-be63-cb2e730b2f67",
     "showTitle": false,
     "tableResultSettingsMap": {},
     "title": ""
    }
   },
   "outputs": [],
   "source": [
    "%pip install mlflow"
   ]
  },
  {
   "cell_type": "code",
   "execution_count": 0,
   "metadata": {
    "application/vnd.databricks.v1+cell": {
     "cellMetadata": {
      "byteLimit": 2048000,
      "rowLimit": 10000
     },
     "inputWidgets": {},
     "nuid": "a0eaa034-b59c-4650-a890-37571f538896",
     "showTitle": false,
     "tableResultSettingsMap": {},
     "title": ""
    }
   },
   "outputs": [],
   "source": [
    "%pip install delta-spark"
   ]
  },
  {
   "cell_type": "code",
   "execution_count": 0,
   "metadata": {
    "application/vnd.databricks.v1+cell": {
     "cellMetadata": {
      "byteLimit": 2048000,
      "rowLimit": 10000
     },
     "inputWidgets": {},
     "nuid": "b9ba0067-a555-4198-ac11-ee9630bd7bcc",
     "showTitle": false,
     "tableResultSettingsMap": {},
     "title": ""
    }
   },
   "outputs": [],
   "source": [
    "!pip install 'anyio<4.0.0'"
   ]
  },
  {
   "cell_type": "markdown",
   "metadata": {
    "application/vnd.databricks.v1+cell": {
     "cellMetadata": {},
     "inputWidgets": {},
     "nuid": "e8ce7c13-7f8f-4e11-b50c-fdaebbcf3f99",
     "showTitle": false,
     "tableResultSettingsMap": {},
     "title": ""
    }
   },
   "source": [
    "## 1.0 Import your libraries here (2 points)\n",
    "- Are your shuffle partitions consistent with your cluster and your workload?\n",
    "- Do you have the necessary libraries to perform the required operations in the pipeline/application?"
   ]
  },
  {
   "cell_type": "code",
   "execution_count": 0,
   "metadata": {
    "application/vnd.databricks.v1+cell": {
     "cellMetadata": {
      "byteLimit": 2048000,
      "rowLimit": 10000
     },
     "inputWidgets": {},
     "nuid": "67bafbb7-d34e-4e86-b159-b2e062faa1d0",
     "showTitle": false,
     "tableResultSettingsMap": {},
     "title": ""
    }
   },
   "outputs": [],
   "source": [
    "# Import necessary libraries\n",
    "from pyspark.sql import SparkSession\n",
    "\n",
    "from pyspark.sql.functions import *\n",
    "from pyspark.sql.types import *\n",
    "from delta.tables import DeltaTable\n",
    "import matplotlib.pyplot as plt\n",
    "import mlflow\n",
    "import mlflow.pyfunc\n",
    "import re\n",
    "import seaborn as sns\n",
    "import pandas as pd\n",
    "import numpy as np\n",
    "from pyspark.sql.window import Window\n",
    "from pyspark.sql.functions import when, count, sum, min, max\n",
    "\n",
    "# Define schema for incoming JSON data\n",
    "json_schema = StructType([\n",
    "    StructField(\"date\", StringType()),\n",
    "    StructField(\"user\", StringType()),\n",
    "    StructField(\"text\", StringType()),\n",
    "    StructField(\"sentiment\", StringType())\n",
    "])\n",
    "\n",
    "spark.sparkContext.defaultParallelism\n",
    "\n",
    "# Set the number of shuffle partitions based on the cluster size\n",
    "# For a standard cluster with 8 cores, 32 partitions is a reasonable starting point\n",
    "# This can be adjusted based on the actual cluster configuration\n",
    "spark.conf.set(\"spark.sql.shuffle.partitions\", 32)\n",
    "\n",
    "# Enable Delta Lake features\n",
    "spark.conf.set(\"spark.databricks.delta.schema.autoMerge.enabled\", \"true\")\n",
    "\n",
    "# Configure optimizations for structured streaming\n",
    "spark.conf.set(\"spark.sql.streaming.stateStore.providerClass\", \n",
    "              \"org.apache.spark.sql.execution.streaming.state.HDFSBackedStateStoreProvider\")\n",
    "\n",
    "# Set checkpointing interval for better fault tolerance\n",
    "spark.conf.set(\"spark.sql.streaming.checkpointInterval\", \"10 seconds\")\n",
    "\n",
    "#Setup for Date-Time processing:\n",
    "spark.conf.set(\"spark.sql.session.timeZone\", \"UTC\")\n",
    "\n",
    "\n",
    "print(\"Libraries imported successfully\")"
   ]
  },
  {
   "cell_type": "code",
   "execution_count": 0,
   "metadata": {
    "application/vnd.databricks.v1+cell": {
     "cellMetadata": {
      "byteLimit": 2048000,
      "rowLimit": 10000
     },
     "inputWidgets": {},
     "nuid": "729fdc8b-7953-4887-bb09-19ebd85c5502",
     "showTitle": false,
     "tableResultSettingsMap": {},
     "title": ""
    }
   },
   "outputs": [],
   "source": [
    "spark.sparkContext.defaultParallelism\n",
    "spark.conf.set(\"spark.sql.shuffle.partitions\", \"32\")\n",
    "spark.conf.get(\"spark.sql.shuffle.partitions\")\n",
    "\n",
    "num_executors = int(spark.sparkContext.getConf().get(\"spark.executor.instances\", \"1\"))\n",
    "cores_per_executor = int(spark.sparkContext.getConf().get(\"spark.executor.cores\", \"1\"))\n",
    "total_cores = num_executors * cores_per_executor\n",
    "\n",
    "print(f\"Number of executors: {num_executors}\")\n",
    "print(f\" Cores per executor: {cores_per_executor}\")\n",
    "print(f\"Total available Spark cores: {total_cores}\")\n"
   ]
  },
  {
   "cell_type": "markdown",
   "metadata": {
    "application/vnd.databricks.v1+cell": {
     "cellMetadata": {},
     "inputWidgets": {},
     "nuid": "2b7624b4-0aa5-46b7-9767-52f462b2c574",
     "showTitle": false,
     "tableResultSettingsMap": {},
     "title": ""
    }
   },
   "source": [
    "## 2.0 Define and execute utility functions (3 points)\n",
    "- Read the source file directory listing\n",
    "- Count the source files (how many are there?)\n",
    "- print the contents of one of the files"
   ]
  },
  {
   "cell_type": "code",
   "execution_count": 0,
   "metadata": {
    "application/vnd.databricks.v1+cell": {
     "cellMetadata": {
      "byteLimit": 2048000,
      "rowLimit": 10000
     },
     "inputWidgets": {},
     "nuid": "a59749d5-e45d-460f-9be1-33652cda2ea5",
     "showTitle": false,
     "tableResultSettingsMap": {},
     "title": ""
    }
   },
   "outputs": [],
   "source": [
    "\n",
    "def clear_previous_run():\n",
    "    \"\"\"\n",
    "    Clears all data from previous runs by deleting the delta tables and checkpoint directories\n",
    "    \"\"\"\n",
    "    # Delete the delta tables if they exist\n",
    "    for delta_path in [BRONZE_DELTA, SILVER_DELTA, GOLD_DELTA]:\n",
    "        if spark._jvm.org.apache.hadoop.fs.Path(delta_path).getFileSystem(\n",
    "            spark._jsc.hadoopConfiguration()\n",
    "        ).exists(spark._jvm.org.apache.hadoop.fs.Path(delta_path)):\n",
    "            dbutils.fs.rm(delta_path, recurse=True)\n",
    "            print(f\"Deleted delta table at {delta_path}\")\n",
    "    \n",
    "    # Delete the checkpoint directories if they exist\n",
    "    for checkpoint_path in [BRONZE_CHECKPOINT, SILVER_CHECKPOINT, GOLD_CHECKPOINT]:\n",
    "        if spark._jvm.org.apache.hadoop.fs.Path(checkpoint_path).getFileSystem(\n",
    "            spark._jsc.hadoopConfiguration()\n",
    "        ).exists(spark._jvm.org.apache.hadoop.fs.Path(checkpoint_path)):\n",
    "            dbutils.fs.rm(checkpoint_path, recurse=True)\n",
    "            print(f\"Deleted checkpoint directory at {checkpoint_path}\")\n",
    "\n",
    "\n",
    "\n",
    "def stop_all_streams():\n",
    "    \"\"\"\n",
    "    Stops all active streams\n",
    "    \"\"\"\n",
    "    for stream in spark.streams.active:\n",
    "        try:\n",
    "            stream.stop()\n",
    "            print(f\"Stopped stream: {stream.name}\")\n",
    "        except:\n",
    "            print(f\"Failed to stop stream {stream.name}\")\n",
    "\n",
    "\n",
    "def optimize_table(delta_path):\n",
    "    \"\"\"\n",
    "    Optimize the Delta table by compacting small files and running VACUUM\n",
    "    \n",
    "    Args:\n",
    "        delta_path (str): Path to the Delta table\n",
    "    \"\"\"\n",
    "    if spark._jvm.org.apache.hadoop.fs.Path(delta_path).getFileSystem(\n",
    "        spark._jsc.hadoopConfiguration()\n",
    "    ).exists(spark._jvm.org.apache.hadoop.fs.Path(delta_path)):\n",
    "        # Optimize the table to merge small files\n",
    "        spark.sql(f\"OPTIMIZE delta.`{delta_path}`\")\n",
    "        print(f\"Optimized table at {delta_path}\")\n",
    "        \n",
    "        # VACUUM to remove files no longer needed\n",
    "        spark.sql(f\"VACUUM delta.`{delta_path}` RETAIN 168 HOURS\")\n",
    "        print(f\"Vacuumed table at {delta_path}\")\n",
    "    else:\n",
    "        print(f\"Table at {delta_path} does not exist\")\n",
    "\n",
    "\n",
    "def setup_mlflow_model():\n",
    "    \"\"\"\n",
    "    Set up the MLflow model for sentiment prediction.\n",
    "    Registers the model if it doesn't exist already.\n",
    "    \n",
    "    Returns:\n",
    "        str: The URI of the model to use for predictions\n",
    "    \"\"\"\n",
    "    try:\n",
    "        # Check if the model is already registered\n",
    "        model_version = mlflow.pyfunc.load_model(f\"models:/{MODEL_NAME}/Production\")\n",
    "        print(f\"Model {MODEL_NAME} is already registered and loaded\")\n",
    "        return f\"models:/{MODEL_NAME}/Production\"\n",
    "    except:\n",
    "        print(f\"Model {MODEL_NAME} is not registered, registering it now\")\n",
    "        # Start a new MLflow run\n",
    "        with mlflow.start_run(run_name=\"Register HuggingFace Model\") as run:\n",
    "            # Use the huggingface flavor to log the model\n",
    "            model_info = mlflow.transformers.log_model(\n",
    "                transformers_model={\n",
    "                    \"model\": HF_MODEL_NAME,\n",
    "                    \"task\": \"text-classification\"\n",
    "                },\n",
    "                artifact_path=\"model\",\n",
    "                registered_model_name=MODEL_NAME\n",
    "            )\n",
    "            \n",
    "            # Transition the model to Production\n",
    "            client = mlflow.tracking.MlflowClient()\n",
    "            latest_version = client.get_latest_versions(MODEL_NAME, stages=[\"None\"])[0].version\n",
    "            client.transition_model_version_stage(\n",
    "                name=MODEL_NAME,\n",
    "                version=latest_version,\n",
    "                stage=\"Production\",\n",
    "            )\n",
    "            \n",
    "            print(f\"Model {MODEL_NAME} registered with version {latest_version} and transitioned to Production\")\n",
    "            return f\"models:/{MODEL_NAME}/Production\"\n",
    "\n",
    "\n",
    "def monitor_metrics(df, metric_name, value_col):\n",
    "    \"\"\"\n",
    "    Create monitoring metrics to track data flow through the pipeline\n",
    "    \n",
    "    Args:\n",
    "        df (DataFrame): DataFrame to collect metrics from\n",
    "        metric_name (str): Name of the metric to track\n",
    "        value_col (str): Column to track values from\n",
    "    \"\"\"\n",
    "    count = df.count()\n",
    "    # Log the count to MLflow\n",
    "    mlflow.log_metric(f\"{metric_name}_count\", count)\n",
    "    \n",
    "    # Calculate basic statistics if the DataFrame is not empty\n",
    "    if count > 0 and value_col in df.columns:\n",
    "        # For numerical columns, calculate statistics\n",
    "        if df.schema[value_col].dataType.typeName() in [\"integer\", \"long\", \"double\", \"float\"]:\n",
    "            stats = df.agg(\n",
    "                min(col(value_col)).alias(\"min\"),\n",
    "                max(col(value_col)).alias(\"max\"),\n",
    "                avg(col(value_col)).alias(\"avg\")\n",
    "            ).collect()[0]\n",
    "            \n",
    "            mlflow.log_metric(f\"{metric_name}_{value_col}_min\", stats[\"min\"])\n",
    "            mlflow.log_metric(f\"{metric_name}_{value_col}_max\", stats[\"max\"])\n",
    "            mlflow.log_metric(f\"{metric_name}_{value_col}_avg\", stats[\"avg\"])\n",
    "    \n",
    "    print(f\"Logged metrics for {metric_name}: {count} records\")\n",
    "\n",
    "\n",
    "def create_schema_visualization(delta_path, table_name):\n",
    "    \"\"\"\n",
    "    Create a visualization of the schema of a Delta table\n",
    "    \n",
    "    Args:\n",
    "        delta_path (str): Path to the Delta table\n",
    "        table_name (str): Name of the table for display purposes\n",
    "    \"\"\"\n",
    "    if spark._jvm.org.apache.hadoop.fs.Path(delta_path).getFileSystem(\n",
    "        spark._jsc.hadoopConfiguration()\n",
    "    ).exists(spark._jvm.org.apache.hadoop.fs.Path(delta_path)):\n",
    "        # Read the Delta table\n",
    "        df = spark.read.format(\"delta\").load(delta_path)\n",
    "        \n",
    "        # Get the schema\n",
    "        schema = df.schema\n",
    "        \n",
    "        # Create a DataFrame to visualize the schema\n",
    "        schema_df = pd.DataFrame([\n",
    "            {\"Field\": field.name, \"Type\": str(field.dataType), \"Nullable\": str(field.nullable)}\n",
    "            for field in schema\n",
    "        ])\n",
    "        \n",
    "        # Display the schema\n",
    "        print(f\"Schema for {table_name} at {delta_path}:\")\n",
    "        display(schema_df)\n",
    "    else:\n",
    "        print(f\"Table at {delta_path} does not exist\")"
   ]
  },
  {
   "cell_type": "code",
   "execution_count": 0,
   "metadata": {
    "application/vnd.databricks.v1+cell": {
     "cellMetadata": {
      "byteLimit": 2048000,
      "rowLimit": 10000
     },
     "inputWidgets": {},
     "nuid": "b53d4fc2-427d-4dd5-a9d0-63bbf8d0ee0f",
     "showTitle": false,
     "tableResultSettingsMap": {},
     "title": ""
    }
   },
   "outputs": [],
   "source": [
    "%python\n",
    "# Define the path\n",
    "TWEET_SOURCE_PATH = \"dbfs:/FileStore/tables/raw_tweets/\"\n",
    "\n",
    "def list_source_files(source_path):\n",
    "    return [f.path for f in dbutils.fs.ls(source_path) if f.path.endswith(\".json\")]\n",
    "\n",
    "def count_source_files(file_list):\n",
    "    return len(file_list)\n",
    "\n",
    "def preview_file(file_path, num_chars=1000):\n",
    "    raw = dbutils.fs.head(file_path, num_chars)\n",
    "    print(f\"📄 Preview: {file_path}\\n{raw[:num_chars]}\")\n",
    "\n",
    "# Run\n",
    "source_files = list_source_files(TWEET_SOURCE_PATH)\n",
    "print(f\"✅ Total source files: {count_source_files(source_files)}\")\n",
    "if source_files:\n",
    "    preview_file(source_files[0])"
   ]
  },
  {
   "cell_type": "markdown",
   "metadata": {
    "application/vnd.databricks.v1+cell": {
     "cellMetadata": {},
     "inputWidgets": {},
     "nuid": "1676aed7-527f-4ea7-9d3b-52544e8c1e37",
     "showTitle": false,
     "tableResultSettingsMap": {},
     "title": ""
    }
   },
   "source": [
    "## 3.0 Transform the Raw Data to Bronze Data using a stream  (8 points)\n",
    "- define the schema for the raw data\n",
    "- setup a read stream using cloudfiles and the source data format\n",
    "- setup a write stream using delta lake to append to the bronze delta table\n",
    "- enforce schema\n",
    "- allow a new schema to be merged into the bronze delta table\n",
    "- Use the defined BRONZE_CHECKPOINT and BRONZE_DELTA paths defined in the includes\n",
    "- name your raw to bronze stream as bronze_stream\n",
    "- transform the raw data to the bronze data using the data definition at the top of the notebook"
   ]
  },
  {
   "cell_type": "code",
   "execution_count": 0,
   "metadata": {
    "application/vnd.databricks.v1+cell": {
     "cellMetadata": {
      "byteLimit": 2048000,
      "rowLimit": 10000
     },
     "inputWidgets": {},
     "nuid": "c4e37574-9885-4908-bf97-609d140a8818",
     "showTitle": false,
     "tableResultSettingsMap": {},
     "title": ""
    }
   },
   "outputs": [],
   "source": [
    "# ENTER YOUR CODE HERE\n",
    "from pyspark.sql.types import StructType, StringType\n",
    "from pyspark.sql.functions import input_file_name, current_timestamp\n",
    "\n",
    "\n",
    "# 1. Define schema for raw JSON data (as per spec)\n",
    "bronze_schema = StructType() \\\n",
    "    .add(\"date\", StringType()) \\\n",
    "    .add(\"user\", StringType()) \\\n",
    "    .add(\"text\", StringType()) \\\n",
    "    .add(\"sentiment\", StringType())\n",
    "\n",
    "# 2. Set up a read stream using Auto Loader\n",
    "raw_stream_df = (\n",
    "    spark.readStream\n",
    "    .format(\"cloudFiles\")\n",
    "    .option(\"cloudFiles.format\", \"json\")\n",
    "    .schema(bronze_schema)  # Enforce schema\n",
    "    .load(TWEET_SOURCE_PATH)\n",
    "    .withColumn(\"source_file\", input_file_name())\n",
    "    .withColumn(\"processing_time\", current_timestamp())\n",
    ")\n",
    "\n",
    "# 3. Write stream to Bronze Delta table\n",
    "bronze_stream = (\n",
    "    raw_stream_df.writeStream\n",
    "    .format(\"delta\")\n",
    "    .outputMode(\"append\")\n",
    "    .option(\"checkpointLocation\", BRONZE_CHECKPOINT)\n",
    "    .option(\"mergeSchema\", \"true\")  # Allow new columns if schema evolves\n",
    "    .queryName(\"bronze_stream\")     # Name the stream\n",
    "    .start(BRONZE_DELTA)\n",
    ")"
   ]
  },
  {
   "cell_type": "markdown",
   "metadata": {
    "application/vnd.databricks.v1+cell": {
     "cellMetadata": {},
     "inputWidgets": {},
     "nuid": "f94a594e-1a85-458f-9fe8-959e06d2e5f0",
     "showTitle": false,
     "tableResultSettingsMap": {},
     "title": ""
    }
   },
   "source": [
    "## 4.0 Transform the Bronze Data to Silver Data using a stream (5 points)\n",
    "- setup a read stream on your bronze delta table\n",
    "- setup a write stream to append to the silver delta table\n",
    "- Use the defined SILVER_CHECKPOINT and SILVER_DELTA paths in the includes\n",
    "- name your bronze to silver stream as silver_stream\n",
    "- transform the bronze data to the silver data using the data definition at the top of the notebook"
   ]
  },
  {
   "cell_type": "code",
   "execution_count": 0,
   "metadata": {
    "application/vnd.databricks.v1+cell": {
     "cellMetadata": {
      "byteLimit": 2048000,
      "rowLimit": 10000
     },
     "inputWidgets": {},
     "nuid": "091ec59c-d968-4acf-b56f-cc9178cd0693",
     "showTitle": false,
     "tableResultSettingsMap": {},
     "title": ""
    }
   },
   "outputs": [],
   "source": [
    "%python\n",
    "from pyspark.sql.functions import col, regexp_replace, explode, split, trim, to_timestamp\n",
    "from pyspark.sql.types import StringType\n",
    "\n",
    "# ✅ Step 1: Read from Bronze Delta table\n",
    "bronze_df = (\n",
    "    spark.readStream\n",
    "    .format(\"delta\")\n",
    "    .load(BRONZE_DELTA)\n",
    ")\n",
    "\n",
    "# ✅ Step 2: Transform into Silver Data\n",
    "silver_df = (\n",
    "    bronze_df\n",
    "    .filter(col(\"text\").isNotNull() & col(\"sentiment\").isNotNull())\n",
    "    \n",
    "    # Convert the date to timestamp\n",
    "    .withColumn(\"timestamp\", to_timestamp(col(\"date\")))\n",
    "    \n",
    "    # Extract mentions as individual rows\n",
    "    .withColumn(\"mention\", explode(split(col(\"text\"), \" \")))  # Split by space\n",
    "    .filter(col(\"mention\").startswith(\"@\"))  # Keep only tokens that are mentions\n",
    "    \n",
    "    # Remove all mentions from the original text to form cleaned_text\n",
    "    .withColumn(\"cleaned_text\", regexp_replace(col(\"text\"), \"@\\\\w+\", \"\"))\n",
    "    \n",
    "    # Clean extra whitespace\n",
    "    .withColumn(\"cleaned_text\", trim(col(\"cleaned_text\")))\n",
    "    \n",
    "    # Select and rename columns to match Silver schema\n",
    "    .select(\n",
    "        \"timestamp\",\n",
    "        \"mention\",\n",
    "        \"cleaned_text\",\n",
    "        col(\"sentiment\").alias(\"Sentiment\")\n",
    "    )\n",
    ")\n",
    "\n",
    "# ✅ Step 3: Write to Silver Delta table\n",
    "silver_stream = (\n",
    "    silver_df.writeStream\n",
    "    .format(\"delta\")\n",
    "    .outputMode(\"append\")\n",
    "    .option(\"checkpointLocation\", SILVER_CHECKPOINT)\n",
    "    .queryName(\"silver_stream\")\n",
    "    .start(SILVER_DELTA)\n",
    ")\n",
    "\n",
    "print(\"🚀 Silver stream started.\")"
   ]
  },
  {
   "cell_type": "markdown",
   "metadata": {
    "application/vnd.databricks.v1+cell": {
     "cellMetadata": {},
     "inputWidgets": {},
     "nuid": "9ee38aba-e340-4766-8339-71ef2ecfde3a",
     "showTitle": false,
     "tableResultSettingsMap": {},
     "title": ""
    }
   },
   "source": [
    "## 5.0 Transform the Silver Data to Gold Data using a stream (7 points)\n",
    "- setup a read stream on your silver delta table\n",
    "- setup a write stream to append to the gold delta table\n",
    "- Use the defined GOLD_CHECKPOINT and GOLD_DELTA paths defines in the includes\n",
    "- name your silver to gold stream as gold_stream\n",
    "- transform the silver data to the gold data using the data definition at the top of the notebook\n",
    "- Load the pretrained transformer sentiment classifier from the MODEL_NAME at the production level from the MLflow registry\n",
    "- Use a spark UDF to parallelize the inference across your silver data"
   ]
  },
  {
   "cell_type": "code",
   "execution_count": 0,
   "metadata": {
    "application/vnd.databricks.v1+cell": {
     "cellMetadata": {
      "byteLimit": 2048000,
      "rowLimit": 10000
     },
     "inputWidgets": {},
     "nuid": "31e8949d-c016-44a7-9f03-65f471dfd22d",
     "showTitle": false,
     "tableResultSettingsMap": {},
     "title": ""
    }
   },
   "outputs": [],
   "source": [
    "# === Step 1: Load the pretrained model from MLflow ===\n",
    "import mlflow.pyfunc\n",
    "model = mlflow.pyfunc.load_model(f\"models:/{MODEL_NAME}/Production\")\n",
    "\n",
    "# === Step 2: Required imports ===\n",
    "from pyspark.sql.functions import col, when, lit\n",
    "from pyspark.sql.types import StringType, FloatType, StructType, StructField\n",
    "\n",
    "# === Step 3: Create Spark UDF from MLflow model ===\n",
    "sentiment_schema = StructType([\n",
    "    StructField(\"score\", FloatType()),\n",
    "    StructField(\"label\", StringType())\n",
    "])\n",
    "\n",
    "@udf(sentiment_schema)\n",
    "def sentiment_predict_udf(text):\n",
    "    import pandas as pd\n",
    "    try:\n",
    "        if not text or not isinstance(text, str):\n",
    "            return (0.0, \"UNKNOWN\")\n",
    "        df = pd.DataFrame([text], columns=[\"text\"])\n",
    "        result = model.predict(df)\n",
    "        return (float(result.iloc[0][\"score\"]) * 100, result.iloc[0][\"label\"].upper())\n",
    "    except Exception:\n",
    "        return (0.0, \"ERROR\")\n",
    "\n",
    "# === Step 4: Start Silver stream ===\n",
    "silver_stream = (\n",
    "    spark.readStream\n",
    "         .format(\"delta\")\n",
    "         .load(SILVER_DELTA)\n",
    ")\n",
    "\n",
    "# === Step 5: Apply UDF and build Gold schema ===\n",
    "gold_ready = (\n",
    "    silver_stream\n",
    "        .withColumn(\"prediction\", sentiment_predict_udf(col(\"cleaned_text\")))\n",
    "        .withColumn(\"predicted_score\", col(\"prediction.score\"))\n",
    "        .withColumn(\"predicted_sentiment\", col(\"prediction.label\"))\n",
    "        .withColumn(\"sentiment_id\", when(col(\"sentiment\").isin(\"negative\", \"NEG\"), 0).otherwise(1))\n",
    "        .withColumn(\"predicted_sentiment_id\", when(col(\"predicted_sentiment\").isin(\"NEGATIVE\", \"NEG\"), 0).otherwise(1))\n",
    "        .select(\n",
    "            col(\"timestamp\"),\n",
    "            col(\"mention\"),\n",
    "            col(\"cleaned_text\"),\n",
    "            col(\"sentiment\"),\n",
    "            col(\"predicted_score\"),\n",
    "            col(\"predicted_sentiment\"),\n",
    "            col(\"sentiment_id\"),\n",
    "            col(\"predicted_sentiment_id\")\n",
    "        )\n",
    ")\n",
    "\n",
    "# === Step 6: Write to Gold Delta Table as a Stream ===\n",
    "gold_output_stream = (\n",
    "    gold_ready.writeStream\n",
    "              .queryName(\"gold_stream\")\n",
    "              .format(\"delta\")\n",
    "              .option(\"checkpointLocation\", GOLD_CHECKPOINT)\n",
    "              .outputMode(\"append\")\n",
    "              .start(GOLD_DELTA)\n",
    ")\n",
    "\n",
    "print(\"✅ Gold stream started with correct schema.\")\n"
   ]
  },
  {
   "cell_type": "markdown",
   "metadata": {
    "application/vnd.databricks.v1+cell": {
     "cellMetadata": {},
     "inputWidgets": {},
     "nuid": "05cd829f-46d6-4d94-8555-887d29a33daf",
     "showTitle": false,
     "tableResultSettingsMap": {},
     "title": ""
    }
   },
   "source": [
    "## 6.0 Monitor your Streams (5 points)\n",
    "- Setup a loop that runs at least every 10 seconds\n",
    "- Print a timestamp of the monitoring query along with the list of streams, rows processed on each, and the processing time on each\n",
    "- Run the loop until all of the data is processed (0 rows read on each active stream)\n",
    "- Plot a line graph that shows the data processed by each stream over time\n",
    "- Plot a line graph that shows the average processing time on each stream over time"
   ]
  },
  {
   "cell_type": "code",
   "execution_count": 0,
   "metadata": {
    "application/vnd.databricks.v1+cell": {
     "cellMetadata": {
      "byteLimit": 2048000,
      "rowLimit": 10000
     },
     "inputWidgets": {},
     "nuid": "acbddf2c-0c20-46d9-aa42-c5aed3e2f839",
     "showTitle": false,
     "tableResultSettingsMap": {},
     "title": ""
    }
   },
   "outputs": [],
   "source": [
    "# List all active streams\n",
    "for stream in spark.streams.active:\n",
    "    print(f\"🔄 Stream Name: {stream.name}\")\n",
    "    print(f\"  Is Active: {stream.isActive}\")\n",
    "    print(f\"  Status: {stream.status['message']}\")\n",
    "    print(\"-\" * 40)\n"
   ]
  },
  {
   "cell_type": "code",
   "execution_count": 0,
   "metadata": {
    "application/vnd.databricks.v1+cell": {
     "cellMetadata": {
      "byteLimit": 2048000,
      "rowLimit": 10000
     },
     "inputWidgets": {},
     "nuid": "cfa0aa07-836f-4a67-b10e-8061b6e8c410",
     "showTitle": false,
     "tableResultSettingsMap": {},
     "title": ""
    }
   },
   "outputs": [],
   "source": [
    "import time\n",
    "from datetime import datetime\n",
    "import pandas as pd\n",
    "import matplotlib.pyplot as plt\n",
    "\n",
    "# Initialize tracking\n",
    "monitoring_data = []\n",
    "idle_checks = 0\n",
    "max_idle_checks = 3  # allow 3 idle loops before stopping\n",
    "check_interval = 10  # seconds between checks\n",
    "\n",
    "print(\"📡 Monitoring active streams...\")\n",
    "while True:\n",
    "    active_queries = spark.streams.active\n",
    "    timestamp = datetime.now().strftime(\"%H:%M:%S\")\n",
    "\n",
    "    all_idle = True\n",
    "\n",
    "    for query in active_queries:\n",
    "        progress = query.lastProgress\n",
    "        if progress:\n",
    "            num_input_rows = progress[\"numInputRows\"]\n",
    "            proc_time = float(progress[\"durationMs\"].get(\"addBatch\", 0)) / 1000\n",
    "            name = query.name\n",
    "\n",
    "            print(f\"[{timestamp}] Stream: {name} | Rows: {num_input_rows} | Time: {proc_time:.2f}s\")\n",
    "\n",
    "            monitoring_data.append({\n",
    "                \"timestamp\": timestamp,\n",
    "                \"stream\": name,\n",
    "                \"rows\": num_input_rows,\n",
    "                \"time\": proc_time\n",
    "            })\n",
    "\n",
    "            if num_input_rows > 0:\n",
    "                all_idle = False\n",
    "\n",
    "    if all_idle:\n",
    "        idle_checks += 1\n",
    "        print(f\"No data processed. Idle check {idle_checks}/{max_idle_checks}\")\n",
    "    else:\n",
    "        idle_checks = 0\n",
    "\n",
    "    if idle_checks >= max_idle_checks:\n",
    "        print(\"Streams idle for 3 consecutive checks. Stopping monitoring.\")\n",
    "        break\n",
    "\n",
    "    time.sleep(check_interval)\n"
   ]
  },
  {
   "cell_type": "code",
   "execution_count": 0,
   "metadata": {
    "application/vnd.databricks.v1+cell": {
     "cellMetadata": {
      "byteLimit": 2048000,
      "rowLimit": 10000
     },
     "inputWidgets": {},
     "nuid": "a0ef18ca-51ac-4028-b0f0-4013a36ea068",
     "showTitle": false,
     "tableResultSettingsMap": {},
     "title": ""
    }
   },
   "outputs": [],
   "source": [
    "spark.read.format(\"delta\").load(BRONZE_DELTA).count()\n",
    "spark.read.format(\"delta\").load(SILVER_DELTA).count()\n",
    "spark.read.format(\"delta\").load(GOLD_DELTA).count()"
   ]
  },
  {
   "cell_type": "code",
   "execution_count": 0,
   "metadata": {
    "application/vnd.databricks.v1+cell": {
     "cellMetadata": {
      "byteLimit": 2048000,
      "rowLimit": 10000
     },
     "inputWidgets": {},
     "nuid": "9448b4eb-c75b-4e93-8854-c5d43b5e564a",
     "showTitle": false,
     "tableResultSettingsMap": {},
     "title": ""
    }
   },
   "outputs": [],
   "source": [
    "import matplotlib.pyplot as plt\n",
    "import pandas as pd\n",
    "\n",
    "# Make sure `monitoring_data` is a list of dictionaries with keys: 'timestamp', 'stream', 'rows', 'time'\n",
    "df_monitor = pd.DataFrame(monitoring_data)\n",
    "\n",
    "# Ensure timestamp is in datetime format (if it's not already)\n",
    "df_monitor[\"timestamp\"] = pd.to_datetime(df_monitor[\"timestamp\"])\n",
    "\n",
    "# Plot 1: Rows processed over time\n",
    "plt.figure(figsize=(12, 5))\n",
    "for stream in df_monitor[\"stream\"].unique():\n",
    "    subset = df_monitor[df_monitor[\"stream\"] == stream]\n",
    "    plt.plot(subset[\"timestamp\"], subset[\"rows\"], marker=\"o\", label=stream)\n",
    "\n",
    "plt.title(\"Rows Processed Over Time\")\n",
    "plt.xlabel(\"Time\")\n",
    "plt.ylabel(\"Number of Rows\")\n",
    "plt.xticks(rotation=45)\n",
    "plt.legend()\n",
    "plt.grid(True)\n",
    "plt.tight_layout()\n",
    "plt.show()"
   ]
  },
  {
   "cell_type": "code",
   "execution_count": 0,
   "metadata": {
    "application/vnd.databricks.v1+cell": {
     "cellMetadata": {
      "byteLimit": 2048000,
      "rowLimit": 10000
     },
     "inputWidgets": {},
     "nuid": "7a3e5763-aae6-4180-b74c-97051d7c94b9",
     "showTitle": false,
     "tableResultSettingsMap": {},
     "title": ""
    }
   },
   "outputs": [],
   "source": [
    "# Plot 2: Processing time over time\n",
    "plt.figure(figsize=(12, 5))\n",
    "for stream in df_monitor[\"stream\"].unique():\n",
    "    subset = df_monitor[df_monitor[\"stream\"] == stream]\n",
    "    plt.plot(subset[\"timestamp\"], subset[\"time\"], marker=\"s\", label=stream)\n",
    "\n",
    "plt.title(\"Average Processing Time Over Time\")\n",
    "plt.xlabel(\"Time\")\n",
    "plt.ylabel(\"Processing Time (s)\")\n",
    "plt.xticks(rotation=45)\n",
    "plt.legend()\n",
    "plt.grid(True)\n",
    "plt.tight_layout()\n",
    "plt.show()"
   ]
  },
  {
   "cell_type": "markdown",
   "metadata": {
    "application/vnd.databricks.v1+cell": {
     "cellMetadata": {},
     "inputWidgets": {},
     "nuid": "9bc3e824-d218-43e5-a43b-4c6dbe31950d",
     "showTitle": false,
     "tableResultSettingsMap": {},
     "title": ""
    }
   },
   "source": [
    "## 7.0 Bronze Data Exploratory Data Analysis (5 points)\n",
    "- How many tweets are captured in your Bronze Table?\n",
    "- Are there any columns that contain Nan or Null values?  If so how many and what will you do in your silver transforms to address this?\n",
    "- Count the number of tweets by each unique user handle and sort the data by descending count.\n",
    "- How many tweets have at least one mention (@) how many tweet have no mentions (@)\n",
    "- Plot a bar chart that shows the top 20 tweeters (users)\n"
   ]
  },
  {
   "cell_type": "code",
   "execution_count": 0,
   "metadata": {
    "application/vnd.databricks.v1+cell": {
     "cellMetadata": {
      "byteLimit": 2048000,
      "rowLimit": 10000
     },
     "inputWidgets": {},
     "nuid": "33e05866-0264-43af-8a95-52e841124d60",
     "showTitle": false,
     "tableResultSettingsMap": {},
     "title": ""
    }
   },
   "outputs": [],
   "source": [
    "import matplotlib.pyplot as plt\n",
    "import pandas as pd\n",
    "from pyspark.sql.functions import col\n",
    "\n",
    "# Load Bronze table\n",
    "bronze_df = spark.read.format(\"delta\").load(BRONZE_DELTA)\n",
    "\n",
    "# 1. Count total tweets\n",
    "total_tweets = bronze_df.count()\n",
    "print(f\"Total tweets in Bronze Table: {total_tweets}\")\n",
    "\n",
    "# 2. Null value analysis\n",
    "null_counts = bronze_df.select([col(c).isNull().cast(\"int\").alias(c) for c in bronze_df.columns]) \\\n",
    "    .groupBy().sum().collect()[0].asDict()\n",
    "print(\"Null counts in each column:\", null_counts)\n",
    "\n",
    "# 3. Count tweets per user\n",
    "user_counts = bronze_df.groupBy(\"user\").count().orderBy(\"count\", ascending=False)\n",
    "top_20_users_df = user_counts.limit(20).toPandas()\n",
    "\n",
    "# 4. Mentions analysis\n",
    "mention_stats = bronze_df.selectExpr(\n",
    "    \"CASE WHEN text LIKE '%@%' THEN 'has_mention' ELSE 'no_mention' END AS mention_status\"\n",
    ").groupBy(\"mention_status\").count().toPandas()\n",
    "\n",
    "print(\"Mentions Summary:\")\n",
    "print(mention_stats)\n",
    "\n",
    "# 5. Plot top 20 tweeters\n",
    "plt.figure(figsize=(12, 6))\n",
    "plt.bar(top_20_users_df[\"user\"], top_20_users_df[\"count\"], color=\"steelblue\")\n",
    "plt.xticks(rotation=90)\n",
    "plt.title(\"Top 20 Tweeters by Tweet Count\")\n",
    "plt.xlabel(\"User\")\n",
    "plt.ylabel(\"Tweet Count\")\n",
    "plt.tight_layout()\n",
    "plt.show()\n"
   ]
  },
  {
   "cell_type": "markdown",
   "metadata": {
    "application/vnd.databricks.v1+cell": {
     "cellMetadata": {},
     "inputWidgets": {},
     "nuid": "0494d8b4-5a55-47fc-af12-47325f34a303",
     "showTitle": false,
     "tableResultSettingsMap": {},
     "title": ""
    }
   },
   "source": [
    "## 8.0 Capture the accuracy metrics from the gold table in MLflow  (4 points)\n",
    "Store the following in an MLflow experiment run:\n",
    "- Store the precision, recall, and F1-score as MLflow metrics\n",
    "- Store an image of the confusion matrix as an MLflow artifact\n",
    "- Store the model name and the MLflow version that was used as an MLflow parameters\n",
    "- Store the version of the Delta Table (input-silver) as an MLflow parameter"
   ]
  },
  {
   "cell_type": "code",
   "execution_count": 0,
   "metadata": {
    "application/vnd.databricks.v1+cell": {
     "cellMetadata": {
      "byteLimit": 2048000,
      "rowLimit": 10000
     },
     "inputWidgets": {},
     "nuid": "3bb174ad-67e4-4b0a-be36-ff20a760ee8b",
     "showTitle": false,
     "tableResultSettingsMap": {},
     "title": ""
    }
   },
   "outputs": [],
   "source": [
    "%python\n",
    "import mlflow\n",
    "from mlflow import MlflowClient\n",
    "from sklearn.metrics import precision_score, recall_score, f1_score, confusion_matrix\n",
    "import matplotlib.pyplot as plt\n",
    "import seaborn as sns\n",
    "import pandas as pd\n",
    "\n",
    "# Load Gold Delta table into Pandas for evaluation\n",
    "gold_df = spark.read.format(\"delta\").load(GOLD_DELTA).toPandas()\n",
    "\n",
    "# Drop rows with missing predictions or labels\n",
    "gold_df = gold_df.dropna(subset=[\"sentiment_id\", \"predicted_sentiment_id\"])\n",
    "\n",
    "# Convert to integer types\n",
    "y_true = gold_df[\"sentiment_id\"].astype(int)\n",
    "y_pred = gold_df[\"predicted_sentiment_id\"].astype(int)\n",
    "\n",
    "# Compute metrics\n",
    "precision = precision_score(y_true, y_pred, zero_division=0)\n",
    "recall = recall_score(y_true, y_pred, zero_division=0)\n",
    "f1 = f1_score(y_true, y_pred, zero_division=0)\n",
    "conf_matrix = confusion_matrix(y_true, y_pred)\n",
    "\n",
    "# Plot confusion matrix\n",
    "plt.figure(figsize=(6, 4))\n",
    "sns.heatmap(conf_matrix, annot=True, fmt=\"d\", cmap=\"Blues\", xticklabels=[\"NEG\", \"POS\"], yticklabels=[\"NEG\", \"POS\"])\n",
    "plt.title(\"Confusion Matrix\")\n",
    "plt.xlabel(\"Predicted\")\n",
    "plt.ylabel(\"Actual\")\n",
    "plt.tight_layout()\n",
    "conf_matrix_path = \"/tmp/confusion_matrix.png\"\n",
    "plt.savefig(conf_matrix_path)\n",
    "plt.close()\n",
    "\n",
    "# Get MLflow model version\n",
    "client = MlflowClient()\n",
    "model_version = client.get_latest_versions(MODEL_NAME, stages=[\"Production\"])[0].version\n",
    "\n",
    "# Get Delta Table version\n",
    "from delta.tables import DeltaTable\n",
    "silver_version = DeltaTable.forPath(spark, SILVER_DELTA).history().select(\"version\").first()[\"version\"]\n",
    "\n",
    "# Log to MLflow\n",
    "with mlflow.start_run(run_name=\"Gold Evaluation Metrics\"):\n",
    "    mlflow.log_metric(\"precision\", precision)\n",
    "    mlflow.log_metric(\"recall\", recall)\n",
    "    mlflow.log_metric(\"f1_score\", f1)\n",
    "\n",
    "    mlflow.log_param(\"model_name\", MODEL_NAME)\n",
    "    mlflow.log_param(\"model_version\", model_version)\n",
    "    mlflow.log_param(\"silver_table_version\", silver_version)\n",
    "\n",
    "    mlflow.log_artifact(conf_matrix_path)\n",
    "\n",
    "print(\"Evaluation complete and metrics logged to MLflow.\")"
   ]
  },
  {
   "cell_type": "markdown",
   "metadata": {
    "application/vnd.databricks.v1+cell": {
     "cellMetadata": {},
     "inputWidgets": {},
     "nuid": "0e91d17d-c5f4-4351-9b3d-306abf7ca617",
     "showTitle": false,
     "tableResultSettingsMap": {},
     "title": ""
    }
   },
   "source": [
    "Gold Evaluation Metrics\n",
    "![](https://drive.google.com/file/d/1flI_5YIRSEPcNqXblTR63If43Co6sEAu/view?usp=drive_link)"
   ]
  },
  {
   "cell_type": "markdown",
   "metadata": {
    "application/vnd.databricks.v1+cell": {
     "cellMetadata": {},
     "inputWidgets": {},
     "nuid": "81e0e2de-b872-4698-81cc-1669646c2183",
     "showTitle": false,
     "tableResultSettingsMap": {},
     "title": ""
    }
   },
   "source": [
    "## 9.0 Application Data Processing and Visualization (6 points)\n",
    "- How many mentions are there in the gold data total?\n",
    "- Count the number of neutral, positive and negative tweets for each mention in new columns\n",
    "- Capture the total for each mention in a new column\n",
    "- Sort the mention count totals in descending order\n",
    "- Plot a bar chart of the top 20 mentions with positive sentiment (the people who are in favor)\n",
    "- Plot a bar chart of the top 20 mentions with negative sentiment (the people who are the vilians)\n",
    "\n",
    "*note: A mention is a specific twitter user that has been \"mentioned\" in a tweet with an @user reference."
   ]
  },
  {
   "cell_type": "code",
   "execution_count": 0,
   "metadata": {
    "application/vnd.databricks.v1+cell": {
     "cellMetadata": {
      "byteLimit": 2048000,
      "rowLimit": 10000
     },
     "inputWidgets": {},
     "nuid": "38d1c1db-a490-4579-8dcd-53d7c1ed75e5",
     "showTitle": false,
     "tableResultSettingsMap": {},
     "title": ""
    }
   },
   "outputs": [],
   "source": [
    "from pyspark.sql.functions import col, when, min, max\n",
    "\n",
    "# Reload the gold table\n",
    "gold_df = spark.read.format(\"delta\").load(GOLD_DELTA)\n",
    "\n",
    "# Normalize predicted sentiment values\n",
    "gold_df = (\n",
    "    gold_df\n",
    "    .withColumn(\"predicted_sentiment\", when(col(\"predicted_sentiment\").isin(\"POS\", \"positive\"), \"positive\")\n",
    "                .when(col(\"predicted_sentiment\").isin(\"NEG\", \"negative\"), \"negative\")\n",
    "                .when(col(\"predicted_sentiment\").isin(\"NEU\", \"neutral\"), \"neutral\")\n",
    "                .otherwise(\"unknown\"))\n",
    ")\n",
    "\n",
    "# Aggregate mention stats\n",
    "mention_stats_df = (\n",
    "    gold_df.groupBy(\"mention\")\n",
    "        .agg(\n",
    "            min(\"timestamp\").alias(\"min_timestamp\"),\n",
    "            max(\"timestamp\").alias(\"Max_timestamp\"),\n",
    "            (sum(when(col(\"predicted_sentiment\") == \"negative\", 1).otherwise(0))).alias(\"negative\"),\n",
    "            (sum(when(col(\"predicted_sentiment\") == \"neutral\", 1).otherwise(0))).alias(\"neutral\"),\n",
    "            (sum(when(col(\"predicted_sentiment\") == \"positive\", 1).otherwise(0))).alias(\"positive\")\n",
    "        )\n",
    "        .withColumn(\"total\", col(\"negative\") + col(\"neutral\") + col(\"positive\"))\n",
    "        .filter(col(\"total\") > 0)\n",
    ")\n",
    "\n",
    "# Cache for reuse\n",
    "mention_stats_df.cache()\n",
    "\n",
    "# Show sample\n",
    "mention_stats_df.show(10, truncate=False)\n",
    "\n",
    "\n"
   ]
  },
  {
   "cell_type": "code",
   "execution_count": 0,
   "metadata": {
    "application/vnd.databricks.v1+cell": {
     "cellMetadata": {
      "byteLimit": 2048000,
      "rowLimit": 10000
     },
     "inputWidgets": {},
     "nuid": "d2e88621-bd97-4305-86ce-f73e57a5e8c0",
     "showTitle": false,
     "tableResultSettingsMap": {},
     "title": ""
    }
   },
   "outputs": [],
   "source": [
    "top_positive_df = mention_stats_df.orderBy(col(\"positive\").desc()).limit(20).toPandas()\n",
    "\n",
    "import matplotlib.pyplot as plt\n",
    "\n",
    "plt.figure(figsize=(12, 6))\n",
    "plt.bar(top_positive_df[\"mention\"], top_positive_df[\"positive\"], color=\"green\")\n",
    "plt.xticks(rotation=90)\n",
    "plt.title(\"Top 20 Mentions with Positive Sentiment\")\n",
    "plt.xlabel(\"Mention\")\n",
    "plt.ylabel(\"Positive Tweet Count\")\n",
    "plt.tight_layout()\n",
    "plt.show()\n"
   ]
  },
  {
   "cell_type": "code",
   "execution_count": 0,
   "metadata": {
    "application/vnd.databricks.v1+cell": {
     "cellMetadata": {
      "byteLimit": 2048000,
      "rowLimit": 10000
     },
     "inputWidgets": {},
     "nuid": "9efafd2a-359e-4ccf-8d62-93168f865bd9",
     "showTitle": false,
     "tableResultSettingsMap": {},
     "title": ""
    }
   },
   "outputs": [],
   "source": [
    "top_negative_df = mention_stats_df.orderBy(col(\"negative\").desc()).limit(20).toPandas()\n",
    "\n",
    "plt.figure(figsize=(12, 6))\n",
    "plt.bar(top_negative_df[\"mention\"], top_negative_df[\"negative\"], color=\"red\")\n",
    "plt.xticks(rotation=90)\n",
    "plt.title(\"Top 20 Mentions with Negative Sentiment\")\n",
    "plt.xlabel(\"Mention\")\n",
    "plt.ylabel(\"Negative Tweet Count\")\n",
    "plt.tight_layout()\n",
    "plt.show()\n"
   ]
  },
  {
   "cell_type": "markdown",
   "metadata": {
    "application/vnd.databricks.v1+cell": {
     "cellMetadata": {},
     "inputWidgets": {},
     "nuid": "5d5add3f-0c13-4d81-86d8-12cf3cfdd2c8",
     "showTitle": false,
     "tableResultSettingsMap": {},
     "title": ""
    }
   },
   "source": [
    "## 10.0 Clean up and completion of your pipeline (3 points)\n",
    "- using the utilities what streams are running? If any.\n",
    "- Stop all active streams\n",
    "- print out the elapsed time of your notebook. Note: In the includes there is a variable START_TIME that captures the starting time of the notebook."
   ]
  },
  {
   "cell_type": "code",
   "execution_count": 0,
   "metadata": {
    "application/vnd.databricks.v1+cell": {
     "cellMetadata": {
      "byteLimit": 2048000,
      "rowLimit": 10000
     },
     "inputWidgets": {},
     "nuid": "0304e685-c26e-447d-b230-c37266f30003",
     "showTitle": false,
     "tableResultSettingsMap": {},
     "title": ""
    }
   },
   "outputs": [],
   "source": [
    "import time\n",
    "from pyspark.sql.functions import col\n",
    "from datetime import timedelta\n",
    "\n",
    "# 1.Check and print all active streams\n",
    "print(\"Active Streams:\")\n",
    "for query in spark.streams.active:\n",
    "    print(f\"• Stream Name: {query.name}, ID: {query.id}, Is Active: {query.isActive}\")\n",
    "\n",
    "# 2.Stop all active streams\n",
    "print(\"\\n⏹Stopping all active streams...\")\n",
    "for query in spark.streams.active:\n",
    "    print(f\"→ Stopping stream: {query.name} (ID: {query.id})\")\n",
    "    query.stop()\n",
    "\n",
    "print(\"All streams have been stopped.\")\n",
    "\n",
    "# 3.Compute elapsed time\n",
    "try:\n",
    "    elapsed_seconds = int(time.time() - START_TIME)\n",
    "    elapsed_time = str(timedelta(seconds=elapsed_seconds))\n",
    "    print(f\"\\n⏱ Notebook Elapsed Time: {elapsed_time}\")\n",
    "except NameError:\n",
    "    print(\"START_TIME not defined. Please make sure it was initialized at notebook start.\")\n"
   ]
  },
  {
   "cell_type": "markdown",
   "metadata": {
    "application/vnd.databricks.v1+cell": {
     "cellMetadata": {},
     "inputWidgets": {},
     "nuid": "b88fc0e5-f50c-4ed1-9480-16a4c8a44b30",
     "showTitle": false,
     "tableResultSettingsMap": {},
     "title": ""
    }
   },
   "source": [
    "## 11.0 How Optimized is your Spark Application (Grad Students Only) (5 points)\n",
    "Graduate students (registered for the DSCC-402 section of the course) are required to do this section.  This is a written analysis using the Spark UI (link to screen shots) that support your analysis of your pipelines execution and what is driving its performance.\n",
    "Recall that Spark Optimization has 5 significant dimensions of considertation:\n",
    "- Spill: write to executor disk due to lack of memory\n",
    "- Skew: imbalance in partition size\n",
    "- Shuffle: network io moving data between executors (wide transforms)\n",
    "- Storage: inefficiency due to disk storage format (small files, location)\n",
    "- Serialization: distribution of code segments across the cluster\n",
    "\n",
    "Comment on each of the dimentions of performance and how your impelementation is or is not being affected.  Use specific information in the Spark UI to support your description.  \n",
    "\n",
    "Note: you can take sreenshots of the Spark UI from your project runs in databricks and then link to those pictures by storing them as a publicly accessible file on your cloud drive (google, one drive, etc.)\n",
    "\n",
    "References:\n",
    "- [Spark UI Reference Reference](https://spark.apache.org/docs/latest/web-ui.html#web-ui)\n",
    "- [Spark UI Simulator](https://www.databricks.training/spark-ui-simulator/index.html)"
   ]
  },
  {
   "cell_type": "markdown",
   "metadata": {
    "application/vnd.databricks.v1+cell": {
     "cellMetadata": {},
     "inputWidgets": {},
     "nuid": "a0a5707d-a5ca-4e87-9e74-3b13d00337b0",
     "showTitle": false,
     "tableResultSettingsMap": {},
     "title": ""
    }
   },
   "source": [
    " \n",
    "I’ve included screenshots from a few job runs based on the code above, and here are some key takeaways from what I observed.\n",
    "\n",
    "Spill\n",
    "\n",
    "![](https://drive.google.com/file/d/1BOH32gVQlsN9Ksa775QL8pH_Si9Unc7d/view?usp=drive_link)\n",
    "\n",
    "![](https://drive.google.com/file/d/1sNJEduvBGitM6Rx1915mavRkQay9OFzT/view?usp=drive_link)\n",
    "The system ran very efficiently—there were no memory issues, no garbage collection needed, and barely any data shuffling (only 615 bytes). The task finished in just 7 milliseconds, showing it executed smoothly in memory without any slowdowns.\n",
    "\n",
    " \n",
    "\n",
    "Skew\n",
    "\n",
    "![](https://drive.google.com/file/d/1jk4gl9_rHHAicV0voHZD6JyFHSPwOeVZ/view?usp=drive_link)\n",
    "\n",
    "I checked the Stage Details and saw that all tasks ran quickly (e.g., 38–81 ms) and were evenly distributed—8 out of 8 tasks finished successfully in one stage.\n",
    "\n",
    "The input and shuffle data were evenly spread out (e.g., 161.4 KiB per task), with no task taking noticeably longer or processing more data. Overall, the job showed no signs of skew and ran efficiently with balanced workloads and good parallelism.\n",
    "\n",
    "Shuffle\n",
    "\n",
    "From the Spark UI, shuffle activity was minimal (520 B to 161.4 KiB), tasks finished quickly (under 100 ms), and no stages had issues. The number of shuffle partitions and data movement were well within limits. Overall, the pipeline ran efficiently with no shuffle bottlenecks—likely thanks to narrow transformations or smart optimizations like broadcast joins or partition pruning.\n",
    "\n",
    "Storage\n",
    "\n",
    "![](https://drive.google.com/file/d/1lXT5Cy_bxrCeWekoCfXOLf26CAM7aivp/view?usp=drive_link)\n",
    "\n",
    "The queries ran fast—most under 2 seconds—even for typically slower operations like .orderBy() and .distinct(). This suggests the Delta tables are well-optimized, likely stored in Parquet format with minimal small files or metadata overhead, making them easy and quick for Spark to read.\n",
    "\n",
    "\n",
    "Serialization\n",
    "\n",
    "![](https://drive.google.com/file/d/1T-5eh6ujisOuxH_gpYJ5DcBbbrssJgj0/view?usp=drive_link)\n",
    " \n",
    "Result Serialization Time is minimal or absent in the task bar. The majority of the task time is spent in Executor Computing and Task Deserialization, with Result Serialization contributing very little.\n"
   ]
  }
 ],
 "metadata": {
  "application/vnd.databricks.v1+notebook": {
   "computePreferences": null,
   "dashboards": [],
   "environmentMetadata": null,
   "inputWidgetPreferences": null,
   "language": "python",
   "notebookMetadata": {
    "mostRecentlyExecutedCommandWithImplicitDF": {
     "commandId": -1,
     "dataframes": [
      "_sqldf"
     ]
    },
    "pythonIndentUnit": 4,
    "widgetLayout": [
     {
      "breakBefore": false,
      "name": "clear_previous_run",
      "width": 203
     },
     {
      "breakBefore": false,
      "name": "stop_streams",
      "width": 203
     }
    ]
   },
   "notebookName": "Starter Streaming Tweet Sentiment - Spring 2025 Final Project",
   "widgets": {
    "clear_previous_run": {
     "currentValue": "No",
     "nuid": "11b43403-c70f-41ef-ab0e-41172583baaa",
     "typedWidgetInfo": {
      "autoCreated": false,
      "defaultValue": "No",
      "label": null,
      "name": "clear_previous_run",
      "options": {
       "widgetDisplayType": "Dropdown",
       "choices": [
        "No",
        "Yes"
       ],
       "fixedDomain": true,
       "multiselect": false
      },
      "parameterDataType": "String"
     },
     "widgetInfo": {
      "widgetType": "dropdown",
      "defaultValue": "No",
      "label": null,
      "name": "clear_previous_run",
      "options": {
       "widgetType": "dropdown",
       "autoCreated": null,
       "choices": [
        "No",
        "Yes"
       ]
      }
     }
    },
    "optimize_tables": {
     "currentValue": "No",
     "nuid": "d27f2950-3146-4010-8bc6-58c47a93e7a9",
     "typedWidgetInfo": {
      "autoCreated": false,
      "defaultValue": "No",
      "label": null,
      "name": "optimize_tables",
      "options": {
       "widgetDisplayType": "Dropdown",
       "choices": [
        "No",
        "Yes"
       ],
       "fixedDomain": true,
       "multiselect": false
      },
      "parameterDataType": "String"
     },
     "widgetInfo": {
      "widgetType": "dropdown",
      "defaultValue": "No",
      "label": null,
      "name": "optimize_tables",
      "options": {
       "widgetType": "dropdown",
       "autoCreated": null,
       "choices": [
        "No",
        "Yes"
       ]
      }
     }
    },
    "stop_streams": {
     "currentValue": "No",
     "nuid": "d70a2190-266e-473c-86a7-84f7bf56b386",
     "typedWidgetInfo": {
      "autoCreated": false,
      "defaultValue": "No",
      "label": null,
      "name": "stop_streams",
      "options": {
       "widgetDisplayType": "Dropdown",
       "choices": [
        "No",
        "Yes"
       ],
       "fixedDomain": true,
       "multiselect": false
      },
      "parameterDataType": "String"
     },
     "widgetInfo": {
      "widgetType": "dropdown",
      "defaultValue": "No",
      "label": null,
      "name": "stop_streams",
      "options": {
       "widgetType": "dropdown",
       "autoCreated": null,
       "choices": [
        "No",
        "Yes"
       ]
      }
     }
    }
   }
  },
  "language_info": {
   "name": "python"
  }
 },
 "nbformat": 4,
 "nbformat_minor": 0
}
